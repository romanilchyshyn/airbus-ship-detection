{
 "cells": [
  {
   "cell_type": "code",
   "execution_count": 146,
   "metadata": {},
   "outputs": [],
   "source": [
    "import tensorflow as tf\n",
    "import matplotlib.pyplot as plt"
   ]
  },
  {
   "cell_type": "code",
   "execution_count": 147,
   "metadata": {},
   "outputs": [],
   "source": [
    "data_path = 'data/'\n",
    "\n",
    "train_csv_file_path = data_path + 'train_ship_segmentations_v2.csv'\n",
    "train_image_path = data_path + 'train_v2/'"
   ]
  },
  {
   "cell_type": "code",
   "execution_count": 148,
   "metadata": {},
   "outputs": [],
   "source": [
    "def load_csv(path):\n",
    "    return tf.data.experimental.make_csv_dataset(\n",
    "        path,\n",
    "        batch_size=32, # required\n",
    "        column_names=['ImageId', 'EncodedPixels'],\n",
    "    )\n",
    "\n",
    "train_csv = load_csv(train_csv_file_path)\n",
    "\n",
    "# for batch in train_csv.take(1):\n",
    "#     print(batch)"
   ]
  },
  {
   "cell_type": "code",
   "execution_count": 156,
   "metadata": {},
   "outputs": [],
   "source": [
    "def process_img(file):\n",
    "    img = tf.io.read_file(train_image_path + file)\n",
    "    img = tf.io.decode_jpeg(img, channels=3)\n",
    "    return img\n",
    "\n",
    "def process_label(label):\n",
    "    return label\n",
    "\n",
    "def process_batch(csv_item):\n",
    "    X = process_img(csv_item['ImageId'])\n",
    "    y = process_label(csv_item['EncodedPixels'])\n",
    "    return X, y\n",
    "\n",
    "train_ds = train_csv.unbatch().map(process_batch)\n",
    "\n",
    "# for item, label in train_ds.take(1):\n",
    "#     plt.imshow(item)\n",
    "#     print(label)"
   ]
  },
  {
   "cell_type": "code",
   "execution_count": null,
   "metadata": {},
   "outputs": [],
   "source": []
  }
 ],
 "metadata": {
  "kernelspec": {
   "display_name": "venv",
   "language": "python",
   "name": "python3"
  },
  "language_info": {
   "codemirror_mode": {
    "name": "ipython",
    "version": 3
   },
   "file_extension": ".py",
   "mimetype": "text/x-python",
   "name": "python",
   "nbconvert_exporter": "python",
   "pygments_lexer": "ipython3",
   "version": "3.11.7"
  }
 },
 "nbformat": 4,
 "nbformat_minor": 2
}
