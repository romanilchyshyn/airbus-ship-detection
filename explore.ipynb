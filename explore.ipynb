{
 "cells": [
  {
   "cell_type": "code",
   "execution_count": 1,
   "metadata": {},
   "outputs": [],
   "source": [
    "import tensorflow as tf"
   ]
  },
  {
   "cell_type": "code",
   "execution_count": 125,
   "metadata": {},
   "outputs": [],
   "source": [
    "data_path = 'data/'\n",
    "\n",
    "train_csv_file_path = data_path + 'train_ship_segmentations_v2.csv'\n",
    "train_image_path = data_path + 'train_v2/'"
   ]
  },
  {
   "cell_type": "code",
   "execution_count": 126,
   "metadata": {},
   "outputs": [],
   "source": [
    "def load_csv(path):\n",
    "    return tf.data.experimental.make_csv_dataset(\n",
    "        train_csv_file_path,\n",
    "        batch_size=32, # required\n",
    "        column_names=['ImageId', 'EncodedPixels'],\n",
    "    )\n",
    "\n",
    "train_csv = load_csv(train_csv_file_path)"
   ]
  },
  {
   "cell_type": "code",
   "execution_count": 118,
   "metadata": {},
   "outputs": [
    {
     "name": "stdout",
     "output_type": "stream",
     "text": [
      "OrderedDict([('ImageId', <tf.Tensor: shape=(), dtype=string, numpy=b'0ab3d7bbc.jpg'>), ('EncodedPixels', <tf.Tensor: shape=(), dtype=string, numpy=b''>)])\n",
      "tf.Tensor(b'0ab3d7bbc.jpg', shape=(), dtype=string)\n",
      "tf.Tensor(b'', shape=(), dtype=string)\n"
     ]
    }
   ],
   "source": [
    "for item in train_csv.unbatch().take(1):\n",
    "    print(item)\n",
    "    print(item['ImageId'])\n",
    "    print(item['EncodedPixels'])"
   ]
  },
  {
   "cell_type": "code",
   "execution_count": 127,
   "metadata": {},
   "outputs": [
    {
     "name": "stdout",
     "output_type": "stream",
     "text": [
      "(<tf.Tensor: shape=(768, 768, 3), dtype=uint8, numpy=\n",
      "array([[[27, 44, 51],\n",
      "        [28, 45, 52],\n",
      "        [27, 44, 51],\n",
      "        ...,\n",
      "        [29, 47, 51],\n",
      "        [29, 47, 51],\n",
      "        [29, 47, 51]],\n",
      "\n",
      "       [[32, 49, 56],\n",
      "        [32, 49, 56],\n",
      "        [30, 47, 54],\n",
      "        ...,\n",
      "        [26, 44, 48],\n",
      "        [27, 45, 49],\n",
      "        [27, 45, 49]],\n",
      "\n",
      "       [[33, 50, 57],\n",
      "        [33, 50, 57],\n",
      "        [32, 49, 56],\n",
      "        ...,\n",
      "        [25, 43, 47],\n",
      "        [26, 44, 48],\n",
      "        [27, 45, 49]],\n",
      "\n",
      "       ...,\n",
      "\n",
      "       [[22, 46, 50],\n",
      "        [21, 45, 49],\n",
      "        [24, 45, 50],\n",
      "        ...,\n",
      "        [29, 48, 55],\n",
      "        [26, 45, 52],\n",
      "        [24, 43, 50]],\n",
      "\n",
      "       [[23, 47, 51],\n",
      "        [23, 47, 51],\n",
      "        [27, 48, 53],\n",
      "        ...,\n",
      "        [28, 46, 56],\n",
      "        [26, 44, 54],\n",
      "        [24, 42, 52]],\n",
      "\n",
      "       [[23, 47, 51],\n",
      "        [23, 47, 51],\n",
      "        [28, 49, 54],\n",
      "        ...,\n",
      "        [28, 46, 56],\n",
      "        [25, 43, 53],\n",
      "        [23, 41, 51]]], dtype=uint8)>, <tf.Tensor: shape=(), dtype=string, numpy=b''>)\n"
     ]
    }
   ],
   "source": [
    "def process_img(file):\n",
    "    img = tf.io.read_file(train_image_path + file)\n",
    "    img = tf.io.decode_jpeg(img, channels=3)\n",
    "    return img\n",
    "\n",
    "def process_label(label):\n",
    "    return label\n",
    "\n",
    "def process_batch(csv_item):\n",
    "    X = process_img(csv_item['ImageId'])\n",
    "    y = process_label(csv_item['EncodedPixels'])\n",
    "    return X, y\n",
    "\n",
    "m = train_csv.unbatch().map(process_batch)\n",
    "\n",
    "for item in m.take(1):\n",
    "    print(item)"
   ]
  }
 ],
 "metadata": {
  "kernelspec": {
   "display_name": "venv",
   "language": "python",
   "name": "python3"
  },
  "language_info": {
   "codemirror_mode": {
    "name": "ipython",
    "version": 3
   },
   "file_extension": ".py",
   "mimetype": "text/x-python",
   "name": "python",
   "nbconvert_exporter": "python",
   "pygments_lexer": "ipython3",
   "version": "3.11.7"
  }
 },
 "nbformat": 4,
 "nbformat_minor": 2
}
