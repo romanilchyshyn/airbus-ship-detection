{
 "cells": [
  {
   "cell_type": "code",
   "execution_count": 1,
   "metadata": {},
   "outputs": [],
   "source": [
    "import tensorflow as tf\n",
    "import matplotlib.pyplot as plt"
   ]
  },
  {
   "cell_type": "code",
   "execution_count": 2,
   "metadata": {},
   "outputs": [],
   "source": [
    "data_path = 'data/'\n",
    "data_preprocessed_dir_path = 'data_p/'\n",
    "train_image_path = data_path + 'train_v2/'"
   ]
  },
  {
   "cell_type": "code",
   "execution_count": 3,
   "metadata": {},
   "outputs": [],
   "source": [
    "def load_csv(path):\n",
    "    return tf.data.experimental.make_csv_dataset(\n",
    "        path,\n",
    "        batch_size=1, # required\n",
    "        column_names=['ImageId', 'EncodedPixels'],\n",
    "        num_epochs=1,\n",
    "        shuffle=False,\n",
    "    )"
   ]
  },
  {
   "cell_type": "code",
   "execution_count": 4,
   "metadata": {},
   "outputs": [],
   "source": [
    "IMG_HEIGHT = 768\n",
    "IMG_WIDTH = 768\n",
    "\n",
    "def decode_label_mask(encoded_pixels, image_height, image_width):\n",
    "    mask = tf.zeros(image_height * image_width, dtype=tf.float32)\n",
    "\n",
    "    # Convert string to integer tensor\n",
    "    pairs = tf.strings.to_number(tf.strings.split(encoded_pixels), out_type=tf.int32)\n",
    "\n",
    "    # Iterate over pairs and update mask\n",
    "    for i in range(0, len(pairs), 2):\n",
    "        start = pairs[i] - 1\n",
    "        run_length = pairs[i + 1]\n",
    "\n",
    "        indices = tf.range(start, start + run_length)\n",
    "        updates = tf.ones(run_length, dtype=tf.float32)\n",
    "        mask = tf.tensor_scatter_nd_update(mask, indices=tf.expand_dims(indices, axis=1), updates=updates)\n",
    "\n",
    "    return  tf.transpose(tf.reshape(mask, (image_height, image_width)))"
   ]
  },
  {
   "cell_type": "code",
   "execution_count": 5,
   "metadata": {},
   "outputs": [],
   "source": [
    "def make_dir(csv_path):\n",
    "    filename = csv_path.split('/')[-1].split('.')[0]\n",
    "    # FIXME: use os.path.join instead of string concatenation\n",
    "    image = data_preprocessed_dir_path + filename + '/' + 'image/'\n",
    "    label = data_preprocessed_dir_path + filename + '/' + 'label/'\n",
    "\n",
    "    import os\n",
    "    if not os.path.exists(image):\n",
    "        os.makedirs(image)\n",
    "    if not os.path.exists(label):\n",
    "        os.makedirs(label)\n",
    "    \n",
    "    return image, label"
   ]
  },
  {
   "cell_type": "code",
   "execution_count": 22,
   "metadata": {},
   "outputs": [],
   "source": [
    "csv_file = 'm.csv'\n",
    "image_dir, labels_dir = make_dir(csv_file)\n",
    "\n",
    "csv = load_csv(data_preprocessed_dir_path + csv_file)\n",
    "\n",
    "def process_img(file):\n",
    "    # FIXME: use some variation of cp instead of read/write\n",
    "    img = tf.io.read_file(train_image_path + file)\n",
    "    tf.io.write_file(image_dir + file, img) # FIXME: drop .jpg extension\n",
    "    return img\n",
    "\n",
    "def process_label(label, file):\n",
    "    mask = decode_label_mask(label, IMG_HEIGHT, IMG_WIDTH)\n",
    "    encoded_mask = tf.io.serialize_tensor(mask)\n",
    "    tf.io.write_file(labels_dir + file, encoded_mask)\n",
    "    return mask\n",
    "\n",
    "def process_batch(csv_item):\n",
    "    X = process_img(csv_item['ImageId'])\n",
    "    y = process_label(csv_item['EncodedPixels'], csv_item['ImageId'])\n",
    "    return X, y\n",
    "\n",
    "# use map in hacky way to process each batch in parallel\n",
    "r = csv.unbatch().map(process_batch)\n",
    "# apply the function to each batch\n",
    "for batch in r.batch(32):\n",
    "    pass"
   ]
  }
 ],
 "metadata": {
  "kernelspec": {
   "display_name": "venv",
   "language": "python",
   "name": "python3"
  },
  "language_info": {
   "codemirror_mode": {
    "name": "ipython",
    "version": 3
   },
   "file_extension": ".py",
   "mimetype": "text/x-python",
   "name": "python",
   "nbconvert_exporter": "python",
   "pygments_lexer": "ipython3",
   "version": "3.11.7"
  }
 },
 "nbformat": 4,
 "nbformat_minor": 2
}
