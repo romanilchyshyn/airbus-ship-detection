{
 "cells": [
  {
   "cell_type": "code",
   "execution_count": 22,
   "metadata": {},
   "outputs": [],
   "source": [
    "import tensorflow as tf\n",
    "import matplotlib.pyplot as plt"
   ]
  },
  {
   "cell_type": "code",
   "execution_count": 30,
   "metadata": {},
   "outputs": [],
   "source": [
    "def image_files(dir_path):\n",
    "    return files(dir_path, '*.jpg')\n",
    "\n",
    "def mask_files(dir_path):\n",
    "    return files(dir_path, '*.jpg') #FIXME: change to mask '.bin' extension\n",
    "\n",
    "def files(dir_path, wildcart):\n",
    "    return tf.data.Dataset.list_files(dir_path + wildcart, shuffle=False)"
   ]
  },
  {
   "cell_type": "code",
   "execution_count": 24,
   "metadata": {},
   "outputs": [],
   "source": [
    "def preprocess_image(path):\n",
    "    img = tf.io.read_file(path)\n",
    "    img = tf.io.decode_jpeg(img, channels=3)\n",
    "    img = tf.cast(img, tf.float32) / 255.\n",
    "    return img\n",
    "\n",
    "def preprocess_mask(path):\n",
    "    mask = tf.io.read_file(path)\n",
    "    img = tf.io.parse_tensor(mask, out_type=tf.float32)\n",
    "    return img"
   ]
  },
  {
   "cell_type": "code",
   "execution_count": 25,
   "metadata": {},
   "outputs": [],
   "source": [
    "def train_dataset(img_dir, mask_dir):\n",
    "    img = image_files(img_dir)\n",
    "    mask = mask_files(mask_dir)\n",
    "    return tf.data.Dataset.zip((img, mask)) \\\n",
    "        .map(lambda x, y: (preprocess_image(x), preprocess_mask(y)))\n",
    "\n",
    "def test_dataset(img_dir):\n",
    "    img = image_files(img_dir)\n",
    "    return img.map(preprocess_image)"
   ]
  },
  {
   "cell_type": "code",
   "execution_count": 36,
   "metadata": {},
   "outputs": [],
   "source": [
    "def plot_image_mask(image, mask):\n",
    "    fig, axs = plt.subplots(1, 2)\n",
    "    axs[0].imshow(image)\n",
    "    axs[1].imshow(mask)\n",
    "    plt.show()\n",
    "\n",
    "def plot_image_mask_predict(image, mask, predict):\n",
    "    fig, axs = plt.subplots(1, 3)\n",
    "    axs[0].imshow(image)\n",
    "    axs[1].imshow(mask)\n",
    "    axs[2].imshow(predict)\n",
    "    plt.show()"
   ]
  },
  {
   "cell_type": "code",
   "execution_count": null,
   "metadata": {},
   "outputs": [],
   "source": [
    "# train_ds = test_dataset('data_p/s/image/')\n",
    "# for image in train_ds.take(1):\n",
    "#     plot_image_mask(image, image)\n",
    "\n",
    "# train_ds = train_dataset('data_p/s/image/', 'data_p/s/label/')\n",
    "# for image, mask in train_ds.take(1):\n",
    "#     plot_image_mask(image, mask)\n",
    "#     plot_image_mask_predict(image, mask, mask)"
   ]
  }
 ],
 "metadata": {
  "kernelspec": {
   "display_name": "venv",
   "language": "python",
   "name": "python3"
  },
  "language_info": {
   "codemirror_mode": {
    "name": "ipython",
    "version": 3
   },
   "file_extension": ".py",
   "mimetype": "text/x-python",
   "name": "python",
   "nbconvert_exporter": "python",
   "pygments_lexer": "ipython3",
   "version": "3.11.7"
  }
 },
 "nbformat": 4,
 "nbformat_minor": 2
}
